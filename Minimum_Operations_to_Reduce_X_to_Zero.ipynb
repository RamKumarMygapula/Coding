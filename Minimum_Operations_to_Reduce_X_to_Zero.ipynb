{
  "nbformat": 4,
  "nbformat_minor": 0,
  "metadata": {
    "colab": {
      "name": "Minimum Operations to Reduce X to Zero",
      "provenance": []
    },
    "kernelspec": {
      "name": "python3",
      "display_name": "Python 3"
    },
    "language_info": {
      "name": "python"
    }
  },
  "cells": [
    {
      "cell_type": "code",
      "execution_count": 1,
      "metadata": {
        "colab": {
          "base_uri": "https://localhost:8080/"
        },
        "id": "OCKoI_XMu_9a",
        "outputId": "3ede5321-ab80-4dfd-d861-f9c6ac0970af"
      },
      "outputs": [
        {
          "output_type": "stream",
          "name": "stdout",
          "text": [
            "-1\n"
          ]
        }
      ],
      "source": [
        "list1=[3,2,20,1,1,3]\n",
        "x=10\n",
        "count=0\n",
        "while(True):\n",
        "    if x==0:\n",
        "        print(count)\n",
        "        break\n",
        "    if list1[0]>list1[len(list1)-1] and x>list1[0]:\n",
        "        temp=list1.pop(0)\n",
        "        x-=temp\n",
        "        count+=1\n",
        "    elif list1[0]<list1[len(list1)-1] and x>list1[len(list1)-1]:\n",
        "        temp=list1.pop()\n",
        "        x-=temp\n",
        "        count+=1\n",
        "    elif list1[0]==list1[len(list1)-1] and x>list1[len(list1)-1]:\n",
        "        temp=list1.pop()\n",
        "        x-=temp\n",
        "        count+=1\n",
        "    elif x>list1[0]:\n",
        "        temp=list1.pop(0)\n",
        "        x-=temp\n",
        "        count+=1\n",
        "    elif x>list1[len(list1)-1]:\n",
        "        temp=list1.pop()\n",
        "        x-=temp\n",
        "        count+=1\n",
        "    else:\n",
        "        if x!=0:\n",
        "            print(\"-1\")\n",
        "        else:\n",
        "            print(count)\n",
        "        break\n",
        "        \n",
        "        "
      ]
    },
    {
      "cell_type": "code",
      "source": [
        ""
      ],
      "metadata": {
        "id": "Mi2-c4KHvCP4"
      },
      "execution_count": null,
      "outputs": []
    }
  ]
}